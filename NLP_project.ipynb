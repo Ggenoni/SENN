{
 "cells": [
  {
   "cell_type": "markdown",
   "metadata": {},
   "source": [
    "Setting up the environment"
   ]
  },
  {
   "cell_type": "code",
   "execution_count": null,
   "metadata": {},
   "outputs": [],
   "source": [
    "# Clone the repository\n",
    "!git clone https://github.com/Ggenoni/SENN.git"
   ]
  },
  {
   "cell_type": "code",
   "execution_count": null,
   "metadata": {},
   "outputs": [],
   "source": [
    "# Install Miniconda\n",
    "!wget https://repo.anaconda.com/miniconda/Miniconda3-latest-Linux-x86_64.sh\n",
    "!bash Miniconda3-latest-Linux-x86_64.sh -b -p /usr/local/miniconda\n",
    "import os\n",
    "os.environ[\"PATH\"] += \":/usr/local/miniconda/bin\""
   ]
  },
  {
   "cell_type": "code",
   "execution_count": null,
   "metadata": {},
   "outputs": [],
   "source": [
    "!conda --version"
   ]
  },
  {
   "cell_type": "code",
   "execution_count": null,
   "metadata": {},
   "outputs": [],
   "source": [
    "%cd SENN"
   ]
  },
  {
   "cell_type": "code",
   "execution_count": null,
   "metadata": {},
   "outputs": [],
   "source": [
    "!conda env create -f environment.yml"
   ]
  },
  {
   "cell_type": "code",
   "execution_count": null,
   "metadata": {},
   "outputs": [],
   "source": [
    "!source /usr/local/miniconda/bin/activate senn && which python"
   ]
  },
  {
   "cell_type": "code",
   "execution_count": null,
   "metadata": {},
   "outputs": [],
   "source": [
    "# ==> After running this cell in Colab, restart the runtime changing kernell <==\n",
    "\n",
    "!source /usr/local/miniconda/bin/activate senn\n",
    "!pip install ipykernel\n",
    "!python -m ipykernel install --user --name=senn --display-name \"Python (senn)\""
   ]
  },
  {
   "cell_type": "code",
   "execution_count": null,
   "metadata": {},
   "outputs": [],
   "source": [
    "# Add the style file\n",
    "!mkdir -p ~/.config/matplotlib/stylelib/\n",
    "!echo -e \"axes.titlesize: 18\\naxes.labelsize: 14\\nfigure.dpi: 100\" > ~/.config/matplotlib/stylelib/seaborn-paper.mplstyle\n"
   ]
  },
  {
   "cell_type": "markdown",
   "metadata": {},
   "source": [
    "Import libraries  \n",
    "The first part of the code is adapte from https://github.com/AmanDaVinci/SENN, in particular report.ipynb."
   ]
  },
  {
   "cell_type": "code",
   "execution_count": null,
   "metadata": {},
   "outputs": [],
   "source": [
    "import json\n",
    "import torch\n",
    "import numpy as np\n",
    "import torch.nn as nn\n",
    "from torchvision.utils import make_grid\n",
    "import matplotlib.pyplot as plt\n",
    "from pathlib import Path\n",
    "from types import SimpleNamespace\n",
    "from importlib import import_module\n",
    "\n",
    "%matplotlib inline"
   ]
  },
  {
   "cell_type": "code",
   "execution_count": null,
   "metadata": {},
   "outputs": [],
   "source": [
    "from senn.models.losses import *\n",
    "from senn.models.parameterizers import *\n",
    "from senn.models.conceptizers import *\n",
    "from senn.models.aggregators import *\n",
    "from senn.models.senn import SENN, DiSENN"
   ]
  },
  {
   "cell_type": "code",
   "execution_count": null,
   "metadata": {},
   "outputs": [],
   "source": [
    "from senn.datasets.dataloaders import get_dataloader\n",
    "from senn.utils.plot_utils import show_explainations, show_prototypes, plot_lambda_accuracy, get_comparison_plot"
   ]
  },
  {
   "cell_type": "markdown",
   "metadata": {},
   "source": [
    "Utility functions"
   ]
  },
  {
   "cell_type": "code",
   "execution_count": null,
   "metadata": {},
   "outputs": [],
   "source": [
    "def get_config(filename):\n",
    "    config_path = Path('configs')\n",
    "    config_file = config_path / filename\n",
    "    with open(config_file, 'r') as f:\n",
    "        config = json.load(f)\n",
    "    \n",
    "    return SimpleNamespace(**config)"
   ]
  },
  {
   "cell_type": "code",
   "execution_count": null,
   "metadata": {},
   "outputs": [],
   "source": [
    "def load_checkpoint(config):\n",
    "    model_file = Path('results') / config.exp_name / \"checkpoints\" / \"best_model.pt\" \n",
    "    return torch.load(model_file, config.device)"
   ]
  },
  {
   "cell_type": "code",
   "execution_count": null,
   "metadata": {},
   "outputs": [],
   "source": [
    "def accuracy(model, dataloader, config):\n",
    "    accuracies = []\n",
    "    model.eval()\n",
    "    with torch.no_grad():\n",
    "        for i, (x, labels) in enumerate(dataloader):\n",
    "            x = x.float().to(config.device)\n",
    "            labels = labels.long().to(config.device)\n",
    "            y_pred, (concepts, relevances), _ = model(x)\n",
    "            accuracies.append((y_pred.argmax(axis=1) == labels).float().mean().item())\n",
    "    accuracy = np.array(accuracies).mean()\n",
    "    print(f\"Test Mean Accuracy: {accuracy * 100: .3f} %\")"
   ]
  },
  {
   "cell_type": "markdown",
   "metadata": {},
   "source": [
    "Load MNIST data and config"
   ]
  },
  {
   "cell_type": "code",
   "execution_count": null,
   "metadata": {},
   "outputs": [],
   "source": [
    "mnist_config = get_config(\"config.json\")\n",
    "#mnist_config.device = \"cpu\""
   ]
  },
  {
   "cell_type": "code",
   "execution_count": null,
   "metadata": {},
   "outputs": [],
   "source": [
    "_, _, mnist_test_dl = get_dataloader(mnist_config)"
   ]
  },
  {
   "cell_type": "markdown",
   "metadata": {},
   "source": [
    "Load our trained model"
   ]
  },
  {
   "cell_type": "code",
   "execution_count": null,
   "metadata": {},
   "outputs": [],
   "source": [
    "conceptizer = ConvConceptizer(**mnist_config.__dict__)\n",
    "parameterizer = ConvParameterizer(**mnist_config.__dict__)\n",
    "aggregator = SumAggregator(**mnist_config.__dict__)\n",
    "\n",
    "mnist_SENN = SENN(conceptizer, parameterizer, aggregator)"
   ]
  },
  {
   "cell_type": "code",
   "execution_count": null,
   "metadata": {},
   "outputs": [],
   "source": [
    "mnist_checkpoint = load_checkpoint(mnist_config)\n",
    "mnist_SENN.load_state_dict(mnist_checkpoint['model_state'])"
   ]
  },
  {
   "cell_type": "markdown",
   "metadata": {},
   "source": [
    "Test accuracy"
   ]
  },
  {
   "cell_type": "code",
   "execution_count": null,
   "metadata": {},
   "outputs": [],
   "source": [
    "accuracy(mnist_SENN, mnist_test_dl, mnist_config)"
   ]
  },
  {
   "cell_type": "markdown",
   "metadata": {},
   "source": [
    "Show explanations"
   ]
  },
  {
   "cell_type": "code",
   "execution_count": null,
   "metadata": {},
   "outputs": [],
   "source": [
    "show_explainations(mnist_SENN, mnist_test_dl, 'mnist')"
   ]
  },
  {
   "cell_type": "code",
   "execution_count": null,
   "metadata": {},
   "outputs": [],
   "source": [
    "show_prototypes(mnist_SENN, mnist_test_dl, 'activation')"
   ]
  },
  {
   "cell_type": "markdown",
   "metadata": {},
   "source": [
    "==> TO BE DONE  <==  \n",
    "Integrated gradients  \n",
    "LIME  \n",
    "\n",
    "AI explainability"
   ]
  }
 ],
 "metadata": {
  "language_info": {
   "name": "python"
  }
 },
 "nbformat": 4,
 "nbformat_minor": 2
}
